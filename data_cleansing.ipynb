{
 "cells": [
  {
   "cell_type": "code",
   "execution_count": 13,
   "metadata": {},
   "outputs": [
    {
     "name": "stdout",
     "output_type": "stream",
     "text": [
      "length of the dataframe: 500\n",
      "length of the updated dataframe: 495\n"
     ]
    }
   ],
   "source": [
    "import requests\n",
    "import pandas as pd\n",
    "from config import geoapify_key\n",
    "\n",
    "def get_coordinates(address):\n",
    "    # Encode the address to be URL-friendly\n",
    "    address = requests.utils.quote(address)\n",
    "    url = f\"https://api.geoapify.com/v1/geocode/search?text={address}&format=json&apiKey={geoapify_key}\"\n",
    "    response = requests.get(url)\n",
    "    data = response.json()\n",
    "    if data and 'results' in data and data['results']:\n",
    "        # Extract the latitude and longitude from the first result\n",
    "        latitude = data['results'][0]['lat']\n",
    "        longitude = data['results'][0]['lon']\n",
    "        return latitude, longitude\n",
    "    else:\n",
    "        return None, None\n",
    "\n",
    "res_reviews_df = pd.read_csv(\"..\\\\project-3-group-5\\\\final.csv\", encoding='latin1')\n",
    "\n",
    "# Create empty lists to store latitude and longitude\n",
    "latitudes = []\n",
    "longitudes = []\n",
    "\n",
    "# Iterate over each row in the DataFrame\n",
    "for index, row in res_reviews_df.iterrows():\n",
    "    # Get the restaurant name and address\n",
    "    address = row[\"address\"]\n",
    "    \n",
    "    # Call the function to get the coordinates\n",
    "    latitude, longitude = get_coordinates(address)\n",
    "    \n",
    "    # Append the coordinates to the lists\n",
    "    latitudes.append(latitude)\n",
    "    longitudes.append(longitude)\n",
    "\n",
    "# Add the latitude and longitude columns to the DataFrame\n",
    "res_reviews_df[\"latitude\"] = latitudes\n",
    "res_reviews_df[\"longitude\"] = longitudes\n",
    "\n",
    "#Printing the original length of the dataframe\n",
    "print(f\"length of the dataframe: {len(res_reviews_df)}\")\n",
    "\n",
    "#dropping the rows with NaN Latitude and longitude\n",
    "updated_df = res_reviews_df.dropna(subset = [\"latitude\", \"longitude\"])\n",
    "\n",
    "#Printing the length of the updated df to check if the columns are dropped \n",
    "print(f\"length of the updated dataframe: {len(updated_df)}\")\n"
   ]
  },
  {
   "cell_type": "code",
   "execution_count": 17,
   "metadata": {},
   "outputs": [
    {
     "name": "stdout",
     "output_type": "stream",
     "text": [
      "                                 name cuisinetype  rankingPosition priceLevel  \\\n",
      "0                                1806         Bar              110   $$ - $$$   \n",
      "1                        +39 Pizzeria     Italian               48   $$ - $$$   \n",
      "2                       11 Inch Pizza     Italian                4          $   \n",
      "3              1932 Cafe & Restaurant  Australian               50   $$ - $$$   \n",
      "4      3 Brothersss Indian Restaurant      Indian              228   $$ - $$$   \n",
      "5                           400 Gradi     Italian                1   $$ - $$$   \n",
      "6                A Hereford Beefstouw  Australian              139   $$ - $$$   \n",
      "7                    A25 Pizzeria CBD     Italian              363   $$ - $$$   \n",
      "8  Aagaman Indian Nepalese Restaurant      Indian              262   $$ - $$$   \n",
      "9                     Abbey Road Cafe  Australian               10   $$ - $$$   \n",
      "\n",
      "     category  rating                                            address  \\\n",
      "0  restaurant     4.5  169 Exhibition St, Melbourne, Victoria 3000 Au...   \n",
      "1  restaurant     4.5  362 Little Bourke St, Melbourne, Victoria 3000...   \n",
      "2  restaurant     4.5  Shop 7A 353 Little Collins St, Melbourne, Vict...   \n",
      "3  restaurant     4.5  220 Collins St Manchester Unity Building, Melb...   \n",
      "4  restaurant     5.0  513 Elizabeth St Queen Victoria Market, Melbou...   \n",
      "5  restaurant     4.0  99 Lygon St, Brunswick West, Moreland, Victori...   \n",
      "6  restaurant     4.5  22 Duckboard Pl, Melbourne, Victoria 3000 Aust...   \n",
      "7  restaurant     4.5  Taylors College 399 Lonsdale St, Melbourne, Vi...   \n",
      "8  restaurant     4.5     271 Bay St, Melbourne, Victoria 3207 Australia   \n",
      "9  restaurant     4.0  129-131 Acland St, St Kilda, Port Phillip, Vic...   \n",
      "\n",
      "   numberOfReviews   latitude   longitude  \n",
      "0              259 -37.811624  144.970126  \n",
      "1             1232 -37.813422  144.961898  \n",
      "2              324 -37.815745  144.963028  \n",
      "3              443 -37.815378  144.966169  \n",
      "4               41 -37.806891  144.959517  \n",
      "5              773 -37.772456  144.971541  \n",
      "6              199 -37.815792  144.971304  \n",
      "7               77 -37.812967  144.960657  \n",
      "8              132 -37.842534  144.938633  \n",
      "9              805 -37.868596  144.979659  \n"
     ]
    }
   ],
   "source": [
    "#printing the dataframe\n",
    "print(updated_df.head(10))\n",
    "\n",
    "#writing a new csv file\n",
    "updated_df.to_csv(\"updated_reviews.csv\", index=False)"
   ]
  }
 ],
 "metadata": {
  "kernelspec": {
   "display_name": "Monash",
   "language": "python",
   "name": "python3"
  },
  "language_info": {
   "codemirror_mode": {
    "name": "ipython",
    "version": 3
   },
   "file_extension": ".py",
   "mimetype": "text/x-python",
   "name": "python",
   "nbconvert_exporter": "python",
   "pygments_lexer": "ipython3",
   "version": "3.10.13"
  }
 },
 "nbformat": 4,
 "nbformat_minor": 2
}
