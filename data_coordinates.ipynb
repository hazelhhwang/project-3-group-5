{
 "cells": [
  {
   "cell_type": "code",
   "execution_count": 7,
   "metadata": {},
   "outputs": [],
   "source": [
    "import pandas as pd\n",
    "import googlemaps\n",
    "from dotenv import load_dotenv\n",
    "import os\n",
    "\n",
    "# Load environment variables from .env file\n",
    "load_dotenv(\"api_keys.env\")  # Replace this with the actual file path\n",
    "\n",
    "# Access the API key from the environment variables\n",
    "api_key = os.getenv(\"GOOGLE_API_KEY\")\n",
    "\n",
    "# Create a client object with your API key\n",
    "gmaps = googlemaps.Client(key=api_key)\n",
    "\n",
    "\n"
   ]
  },
  {
   "cell_type": "code",
   "execution_count": 8,
   "metadata": {},
   "outputs": [],
   "source": [
    "# Function to geocode an address and return latitude and longitude\n",
    "def geocode_address(address):\n",
    "    # Geocode the address using Google Maps Geocoding API\n",
    "    try:\n",
    "        geocode_result = gmaps.geocode(address)\n",
    "        # Extract latitude and longitude from the geocode result\n",
    "        if geocode_result:\n",
    "            location = geocode_result[0]['geometry']['location']\n",
    "            latitude = location['lat']\n",
    "            longitude = location['lng']\n",
    "            return latitude, longitude\n",
    "        else:\n",
    "            return None, None\n",
    "    except Exception as e:\n",
    "        print(f\"Error geocoding address '{address}': {str(e)}\")\n",
    "        return None, None\n",
    "\n"
   ]
  },
  {
   "cell_type": "code",
   "execution_count": 9,
   "metadata": {},
   "outputs": [],
   "source": [
    "# Read the CSV file into a DataFrame\n",
    "df = pd.read_csv('data.csv')\n",
    "\n"
   ]
  },
  {
   "cell_type": "code",
   "execution_count": 10,
   "metadata": {},
   "outputs": [
    {
     "name": "stdout",
     "output_type": "stream",
     "text": [
      "                             name cuisinetype  rankingPosition priceLevel  \\\n",
      "0                            1806         Bar              110   $$ - $$$   \n",
      "1                    +39 Pizzeria     Italian               48   $$ - $$$   \n",
      "2                   11 Inch Pizza     Italian                4          $   \n",
      "3          1932 Cafe & Restaurant  Australian               50   $$ - $$$   \n",
      "4  3 Brothersss Indian Restaurant      Indian              228   $$ - $$$   \n",
      "\n",
      "     category  rating                                            address  \\\n",
      "0  restaurant     4.5  169 Exhibition St, Melbourne, Victoria 3000 Au...   \n",
      "1  restaurant     4.5  362 Little Bourke St, Melbourne, Victoria 3000...   \n",
      "2  restaurant     4.5  Shop 7A 353 Little Collins St, Melbourne, Vict...   \n",
      "3  restaurant     4.5  220 Collins St Manchester Unity Building, Melb...   \n",
      "4  restaurant     5.0  513 Elizabeth St Queen Victoria Market, Melbou...   \n",
      "\n",
      "   numberOfReviews   Latitude   Longitude  \n",
      "0              259 -37.811648  144.970112  \n",
      "1             1232 -37.813283  144.961764  \n",
      "2              324 -37.815600  144.962920  \n",
      "3              443 -37.815327  144.966169  \n",
      "4               41 -37.807580  144.956785  \n"
     ]
    }
   ],
   "source": [
    "# Apply geocoding function to 'address' column and create 'Latitude' and 'Longitude' columns\n",
    "df['Latitude'], df['Longitude'] = zip(*df['address'].apply(geocode_address))\n",
    "\n",
    "# Display the DataFrame with latitude and longitude columns added\n",
    "print(df.head())"
   ]
  },
  {
   "cell_type": "code",
   "execution_count": 11,
   "metadata": {},
   "outputs": [
    {
     "name": "stdout",
     "output_type": "stream",
     "text": [
      "Number of rows with missing latitude values: 0\n"
     ]
    }
   ],
   "source": [
    "# Count the rows where latitude is NaN (missing)\n",
    "missing_latitude_count = df['Latitude'].isnull().sum()\n",
    "\n",
    "print(f\"Number of rows with missing latitude values: {missing_latitude_count}\")\n"
   ]
  },
  {
   "cell_type": "code",
   "execution_count": 12,
   "metadata": {},
   "outputs": [
    {
     "name": "stdout",
     "output_type": "stream",
     "text": [
      "CSV file exported successfully.\n"
     ]
    }
   ],
   "source": [
    "# Export the DataFrame to a CSV file\n",
    "df.to_csv('data_with_coordinates.csv', index=False)\n",
    "\n",
    "print(\"CSV file exported successfully.\")\n"
   ]
  }
 ],
 "metadata": {
  "kernelspec": {
   "display_name": "dev",
   "language": "python",
   "name": "python3"
  },
  "language_info": {
   "codemirror_mode": {
    "name": "ipython",
    "version": 3
   },
   "file_extension": ".py",
   "mimetype": "text/x-python",
   "name": "python",
   "nbconvert_exporter": "python",
   "pygments_lexer": "ipython3",
   "version": "3.10.13"
  }
 },
 "nbformat": 4,
 "nbformat_minor": 2
}
