{
 "cells": [
  {
   "cell_type": "code",
   "execution_count": 5,
   "metadata": {},
   "outputs": [
    {
     "name": "stdout",
     "output_type": "stream",
     "text": [
      "Latitude: -37.8094745, Longitude: 144.9720174\n"
     ]
    }
   ],
   "source": [
    "import requests\n",
    "\n",
    "def get_coordinates(address):\n",
    "    # Encode the address to be URL-friendly\n",
    "    address = requests.utils.quote(address)\n",
    "    \n",
    "    # The Nominatim endpoint for geocoding\n",
    "    url = f\"https://nominatim.openstreetmap.org/search?q={address}&format=json\"\n",
    "    \n",
    "    # Set a custom User-Agent header\n",
    " \n",
    "\n",
    "    response = requests.get(url)\n",
    "    data = response.json()\n",
    "\n",
    "    if data:\n",
    "        # Extract the latitude and longitude from the first result\n",
    "        latitude = data[0]['lat']\n",
    "        longitude = data[0]['lon']\n",
    "        return latitude, longitude\n",
    "    else:\n",
    "        return None, None\n",
    "\n",
    "# Example usage\n",
    "address = \"399 Lonsdale St, Melbourne, Victoria 3000 Australia\"\n",
    "latitude, longitude = get_coordinates(address)\n",
    "print(f\"Latitude: {latitude}, Longitude: {longitude}\")\n"
   ]
  }
 ],
 "metadata": {
  "kernelspec": {
   "display_name": "dev",
   "language": "python",
   "name": "python3"
  },
  "language_info": {
   "codemirror_mode": {
    "name": "ipython",
    "version": 3
   },
   "file_extension": ".py",
   "mimetype": "text/x-python",
   "name": "python",
   "nbconvert_exporter": "python",
   "pygments_lexer": "ipython3",
   "version": "3.10.13"
  }
 },
 "nbformat": 4,
 "nbformat_minor": 2
}
